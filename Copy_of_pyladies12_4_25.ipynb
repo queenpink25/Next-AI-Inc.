{
  "nbformat": 4,
  "nbformat_minor": 0,
  "metadata": {
    "colab": {
      "provenance": [],
      "authorship_tag": "ABX9TyOc43IFlPfv8jc61K/y7Hn0",
      "include_colab_link": true
    },
    "kernelspec": {
      "name": "python3",
      "display_name": "Python 3"
    },
    "language_info": {
      "name": "python"
    }
  },
  "cells": [
    {
      "cell_type": "markdown",
      "metadata": {
        "id": "view-in-github",
        "colab_type": "text"
      },
      "source": [
        "<a href=\"https://colab.research.google.com/github/queenpink25/Next-AI-Inc./blob/main/Copy_of_pyladies12_4_25.ipynb\" target=\"_parent\"><img src=\"https://colab.research.google.com/assets/colab-badge.svg\" alt=\"Open In Colab\"/></a>"
      ]
    },
    {
      "cell_type": "code",
      "source": [],
      "metadata": {
        "id": "roHflG3cFBN8"
      },
      "execution_count": null,
      "outputs": []
    },
    {
      "cell_type": "code",
      "execution_count": null,
      "metadata": {
        "colab": {
          "base_uri": "https://localhost:8080/"
        },
        "id": "0rCQYvn5CyL0",
        "outputId": "81f9942e-6017-4c47-ae59-99ee33ae4413"
      },
      "outputs": [
        {
          "output_type": "stream",
          "name": "stdout",
          "text": [
            "Hello world\n"
          ]
        }
      ],
      "source": [
        "print ('Hello world')"
      ]
    },
    {
      "cell_type": "code",
      "source": [
        "#indices\n",
        "\n",
        "fruits=['Apple','Mangoes','Oranges']\n",
        "fruits[0] #prints the first variable in the string\n",
        "len(fruits)\n",
        "fruits[0:]\n",
        "fruits[::-1  ] #prints variables in reverse order\n",
        "fruits.append('Pear')\n",
        "print (fruits)\n",
        "fruits[0]='pawpaw'# replaces Apple with Apple\n",
        "print(fruits)\n",
        "fruits.pop(1)\n",
        "del fruits[0]\n",
        "\n",
        "\n",
        "\n"
      ],
      "metadata": {
        "colab": {
          "base_uri": "https://localhost:8080/"
        },
        "id": "rS0N7g_lGgwF",
        "outputId": "60468729-53bf-449f-cc77-6dc1c9cbfea3"
      },
      "execution_count": null,
      "outputs": [
        {
          "output_type": "stream",
          "name": "stdout",
          "text": [
            "['Apple', 'Mangoes', 'Oranges', 'Pear']\n",
            "['pawpaw', 'Mangoes', 'Oranges', 'Pear']\n"
          ]
        },
        {
          "output_type": "execute_result",
          "data": {
            "text/plain": [
              "<enumerate at 0x7e04f9a84180>"
            ]
          },
          "metadata": {},
          "execution_count": 44
        }
      ]
    },
    {
      "cell_type": "code",
      "source": [
        "\n",
        "#adding another list of items\n",
        "\n",
        "fruits=['Apple','Mangoes','Oranges']\n",
        "bas  = ['melon','ovacado','grapes']\n",
        "fruits.append(bas)\n",
        "print(fruits)\n"
      ],
      "metadata": {
        "colab": {
          "base_uri": "https://localhost:8080/"
        },
        "id": "HVcIyGZBNMe-",
        "outputId": "81a7e099-671b-438e-db34-dfb0a38e3278"
      },
      "execution_count": null,
      "outputs": [
        {
          "output_type": "stream",
          "name": "stdout",
          "text": [
            "['Apple', 'Mangoes', 'Oranges', ['melon', 'ovacado', 'grapes']]\n"
          ]
        }
      ]
    },
    {
      "cell_type": "code",
      "source": [
        "#correcting errors\n",
        "fruits_shopping['apples']=20\n",
        "fruits_shopping"
      ],
      "metadata": {
        "colab": {
          "base_uri": "https://localhost:8080/"
        },
        "id": "jNy3L3aMSXYR",
        "outputId": "74cb52e5-dfde-45fe-a140-4a7535095101"
      },
      "execution_count": null,
      "outputs": [
        {
          "output_type": "execute_result",
          "data": {
            "text/plain": [
              "{'banana': 8, 'apples': 20, 'pears': 5, 'avacado': 6}"
            ]
          },
          "metadata": {},
          "execution_count": 55
        }
      ]
    },
    {
      "cell_type": "code",
      "source": [
        "#dictionaries\n",
        "#indentifying the number of items per variable\n",
        "fruits_shopping={\n",
        "    'banana':8,\n",
        "    'apples':10,\n",
        "    'pears':5,\n",
        "    'avacado':6\n",
        "}\n",
        "fruits_shopping\n",
        "fruits_shopping.values()"
      ],
      "metadata": {
        "colab": {
          "base_uri": "https://localhost:8080/"
        },
        "id": "7CMjy4gKNIjm",
        "outputId": "77dde5a5-4c8f-444c-a61d-897729915503"
      },
      "execution_count": null,
      "outputs": [
        {
          "output_type": "execute_result",
          "data": {
            "text/plain": [
              "dict_values([8, 10, 5, 6])"
            ]
          },
          "metadata": {},
          "execution_count": 54
        }
      ]
    },
    {
      "cell_type": "code",
      "source": [
        "fruits_shopping.popitem()"
      ],
      "metadata": {
        "colab": {
          "base_uri": "https://localhost:8080/"
        },
        "id": "4f9um171TKTo",
        "outputId": "1c1e1828-ddd2-4910-d66c-5c0be0eb3fe4"
      },
      "execution_count": null,
      "outputs": [
        {
          "output_type": "execute_result",
          "data": {
            "text/plain": [
              "('avacado', 6)"
            ]
          },
          "metadata": {},
          "execution_count": 57
        }
      ]
    },
    {
      "cell_type": "code",
      "source": [
        "#Tuples\n",
        "#you can not change anything in the tuples ideal for security purposes\n",
        "\n"
      ],
      "metadata": {
        "id": "PNXNVRx8TWUz"
      },
      "execution_count": null,
      "outputs": []
    },
    {
      "cell_type": "code",
      "source": [],
      "metadata": {
        "id": "es_kPybPUS0L"
      },
      "execution_count": null,
      "outputs": []
    },
    {
      "cell_type": "code",
      "source": [
        "#sets\n",
        "doesnt give aparticular order\n",
        "my_fruits={'apple','avacado','pears'}\n",
        "my_fruits"
      ],
      "metadata": {
        "colab": {
          "base_uri": "https://localhost:8080/"
        },
        "id": "TX1ft3EAUQnG",
        "outputId": "9224a40e-d8c5-4036-a02c-a193ebfb33e1"
      },
      "execution_count": null,
      "outputs": [
        {
          "output_type": "execute_result",
          "data": {
            "text/plain": [
              "{'apple', 'avacado', 'pears'}"
            ]
          },
          "metadata": {},
          "execution_count": 60
        }
      ]
    },
    {
      "cell_type": "code",
      "source": [
        "set_copy=my_fruits.copy()\n",
        "my_fruits\n"
      ],
      "metadata": {
        "colab": {
          "base_uri": "https://localhost:8080/"
        },
        "id": "oQCieSfKUxDg",
        "outputId": "4f252eed-9d1e-433d-bb24-eac5220f8e6d"
      },
      "execution_count": null,
      "outputs": [
        {
          "output_type": "execute_result",
          "data": {
            "text/plain": [
              "{'apple', 'avacado', 'pears'}"
            ]
          },
          "metadata": {},
          "execution_count": 68
        }
      ]
    },
    {
      "cell_type": "code",
      "source": [
        "my_fruits.add('avacado')\n",
        "my_fruits"
      ],
      "metadata": {
        "colab": {
          "base_uri": "https://localhost:8080/"
        },
        "id": "SA81jpTPUVXQ",
        "outputId": "ac096505-c5e6-4343-bcb3-44201ba52f73"
      },
      "execution_count": null,
      "outputs": [
        {
          "output_type": "execute_result",
          "data": {
            "text/plain": [
              "{'apple', 'avacado', 'pears'}"
            ]
          },
          "metadata": {},
          "execution_count": 63
        }
      ]
    },
    {
      "cell_type": "code",
      "source": [
        "#conditional statements\n",
        "#if ,else\n",
        "if 1>2:\n",
        "  print('1 is greater than 2')\n",
        "else:\n",
        "  print('3 is less than 7')\n",
        "\n",
        "\n"
      ],
      "metadata": {
        "colab": {
          "base_uri": "https://localhost:8080/"
        },
        "id": "emjVUeGMVz9Q",
        "outputId": "8cb6907b-8e8a-44bb-c1c3-909aedebdea6"
      },
      "execution_count": null,
      "outputs": [
        {
          "output_type": "stream",
          "name": "stdout",
          "text": [
            "3 is less than 7\n"
          ]
        }
      ]
    },
    {
      "cell_type": "code",
      "source": [
        "#elif\n",
        "\n",
        "if 2 >0:\n",
        "\n",
        " print(\"positive\")\n",
        "elif x==0:\n",
        " print('zero')\n",
        "else:\n",
        "  print(\"negative\")"
      ],
      "metadata": {
        "colab": {
          "base_uri": "https://localhost:8080/"
        },
        "id": "hsNZ-cTbXIQ5",
        "outputId": "0de74ae4-add9-4c6d-b997-2bacf6ea8bca"
      },
      "execution_count": null,
      "outputs": [
        {
          "output_type": "stream",
          "name": "stdout",
          "text": [
            "positive\n"
          ]
        }
      ]
    },
    {
      "cell_type": "code",
      "source": [
        "#comparisons\n",
        "if 3>7:\n",
        "  print('3 is greater than 7')\n",
        "elif(3==7):\n",
        "  print('3 is equal to 7')\n",
        "else:\n",
        "  print('3 is not greater than 7')\n"
      ],
      "metadata": {
        "colab": {
          "base_uri": "https://localhost:8080/"
        },
        "id": "03qZNavxbaU0",
        "outputId": "fffd5098-69a8-40ca-977b-221e34a1030d"
      },
      "execution_count": null,
      "outputs": [
        {
          "output_type": "stream",
          "name": "stdout",
          "text": [
            "3 is not greater than 7\n"
          ]
        }
      ]
    },
    {
      "cell_type": "code",
      "source": [
        "#we use .format when werent sure of the  next values\n",
        "\n",
        "def compare_numbers(x,y):\n",
        "  if x>y:\n",
        "    print('{} is greater than 2'.format(x,y))\n",
        "  elif x>2:\n",
        "    print('{} is greater than 2'.format(x,y))\n",
        "  else:\n",
        "    print('{}is equal to {}'.format(x,y))\n",
        "\n",
        "compare_numbers(3,6)"
      ],
      "metadata": {
        "colab": {
          "base_uri": "https://localhost:8080/"
        },
        "id": "aG9pAFeaXHzq",
        "outputId": "4802ca38-ab93-48e3-f1e7-f45ef87e1253"
      },
      "execution_count": null,
      "outputs": [
        {
          "output_type": "stream",
          "name": "stdout",
          "text": [
            "3 is greater than 2\n"
          ]
        }
      ]
    },
    {
      "cell_type": "code",
      "source": [
        "names=['Derrick','immy','Andrew','Mary']\n",
        "for i in names:\n",
        "  print(i)"
      ],
      "metadata": {
        "colab": {
          "base_uri": "https://localhost:8080/"
        },
        "id": "Qtf66Zo5bOBB",
        "outputId": "9ae537af-6096-45c1-a750-4dd6ac51982b"
      },
      "execution_count": null,
      "outputs": [
        {
          "output_type": "stream",
          "name": "stdout",
          "text": [
            "Derrick\n",
            "immy\n",
            "Andrew\n",
            "Mary\n"
          ]
        }
      ]
    },
    {
      "cell_type": "code",
      "source": [],
      "metadata": {
        "id": "m5u9ngu9cq0K"
      },
      "execution_count": null,
      "outputs": []
    },
    {
      "cell_type": "code",
      "source": [
        "fruits_shopping\n",
        "{'banana':8, 'apples':20,'avacado':5}"
      ],
      "metadata": {
        "colab": {
          "base_uri": "https://localhost:8080/"
        },
        "id": "DJDUO379eRI_",
        "outputId": "9648f478-22a9-4bea-fc5c-6613f46e308a"
      },
      "execution_count": null,
      "outputs": [
        {
          "output_type": "execute_result",
          "data": {
            "text/plain": [
              "{'banana': 8, 'apples': 20, 'avacado': 5}"
            ]
          },
          "metadata": {},
          "execution_count": 125
        }
      ]
    },
    {
      "cell_type": "code",
      "source": [
        "for key,value in fruits_shopping.items():\n",
        "   print(f'i want{value}{key}')"
      ],
      "metadata": {
        "colab": {
          "base_uri": "https://localhost:8080/"
        },
        "id": "WEpEMjGIerTm",
        "outputId": "47a51aaf-a166-441c-f96f-c7f8d08aa452"
      },
      "execution_count": null,
      "outputs": [
        {
          "output_type": "stream",
          "name": "stdout",
          "text": [
            "i want8banana\n",
            "i want20apples\n",
            "i want5pears\n"
          ]
        }
      ]
    },
    {
      "cell_type": "code",
      "source": [
        "for key,value in fruits_shopping.items():\n",
        "  print(f'i want{value}{key}')"
      ],
      "metadata": {
        "colab": {
          "base_uri": "https://localhost:8080/"
        },
        "id": "qkAzg3AeavBZ",
        "outputId": "7533cc93-359b-40ff-9c05-ba0f6d7b3712"
      },
      "execution_count": null,
      "outputs": [
        {
          "output_type": "stream",
          "name": "stdout",
          "text": [
            "i want8banana\n",
            "i want20apples\n",
            "i want5pears\n"
          ]
        }
      ]
    },
    {
      "cell_type": "code",
      "source": [
        "#while loop\n",
        "\n",
        "j=1\n",
        "while j<6:\n",
        "  print(j)\n",
        "  j=j+1"
      ],
      "metadata": {
        "colab": {
          "base_uri": "https://localhost:8080/"
        },
        "id": "8TnF68ItgZYK",
        "outputId": "ec226148-4871-4755-ee92-f5acdf42f5c2"
      },
      "execution_count": null,
      "outputs": [
        {
          "output_type": "stream",
          "name": "stdout",
          "text": [
            "1\n",
            "2\n",
            "3\n",
            "4\n",
            "5\n"
          ]
        }
      ]
    },
    {
      "cell_type": "code",
      "source": [
        "#RANGE FNCTION\n",
        "\n",
        "for x in range(20):\n",
        "   print(x)"
      ],
      "metadata": {
        "colab": {
          "base_uri": "https://localhost:8080/"
        },
        "id": "zyc4W1qDhKr_",
        "outputId": "78dbcb42-e75a-4d22-e015-42b03567cc00"
      },
      "execution_count": null,
      "outputs": [
        {
          "output_type": "stream",
          "name": "stdout",
          "text": [
            "0\n",
            "1\n",
            "2\n",
            "3\n",
            "4\n",
            "5\n",
            "6\n",
            "7\n",
            "8\n",
            "9\n",
            "10\n",
            "11\n",
            "12\n",
            "13\n",
            "14\n",
            "15\n",
            "16\n",
            "17\n",
            "18\n",
            "19\n"
          ]
        }
      ]
    },
    {
      "cell_type": "code",
      "source": [
        "#MAP METHOD\n",
        "#Maps what a function will do on a list\n",
        "numbers =[1,2,3,4,5]\n",
        "def add_two(x):\n",
        "  x=x+2\n",
        "  return x\n",
        "  #list(map(add_two,numbers))\n"
      ],
      "metadata": {
        "id": "JgUiXAJphjb5"
      },
      "execution_count": null,
      "outputs": []
    },
    {
      "cell_type": "markdown",
      "source": [],
      "metadata": {
        "id": "jKfJ13YmVzl_"
      }
    },
    {
      "cell_type": "markdown",
      "source": [],
      "metadata": {
        "id": "LbTtff5uVzij"
      }
    }
  ]
}